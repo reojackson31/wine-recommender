{
 "cells": [
  {
   "cell_type": "markdown",
   "metadata": {},
   "source": [
    "# Experimenting different Models for Document Similarity of wine reviews"
   ]
  },
  {
   "cell_type": "code",
   "execution_count": 7,
   "metadata": {},
   "outputs": [
    {
     "name": "stderr",
     "output_type": "stream",
     "text": [
      "[nltk_data] Downloading package wordnet to\n",
      "[nltk_data]     C:\\Users\\Admin\\AppData\\Roaming\\nltk_data...\n",
      "[nltk_data]   Package wordnet is already up-to-date!\n",
      "[nltk_data] Downloading package omw-1.4 to\n",
      "[nltk_data]     C:\\Users\\Admin\\AppData\\Roaming\\nltk_data...\n"
     ]
    }
   ],
   "source": [
    "import pandas as pd\n",
    "import numpy as np\n",
    "\n",
    "from sklearn.model_selection import StratifiedShuffleSplit\n",
    "from sklearn.feature_extraction.text import TfidfVectorizer\n",
    "from sklearn.neighbors import NearestNeighbors\n",
    "from sklearn.metrics.pairwise import euclidean_distances\n",
    "from sklearn.metrics.pairwise import cosine_similarity\n",
    "\n",
    "import re\n",
    "import nltk\n",
    "from nltk.corpus import stopwords\n",
    "from nltk.stem import WordNetLemmatizer\n",
    "nltk.download('wordnet')\n",
    "nltk.download('omw-1.4')\n",
    "\n",
    "import warnings\n",
    "warnings.filterwarnings('ignore')"
   ]
  },
  {
   "cell_type": "markdown",
   "metadata": {},
   "source": [
    "## 1. Read the data and split to train and test sets"
   ]
  },
  {
   "cell_type": "code",
   "execution_count": 2,
   "metadata": {},
   "outputs": [],
   "source": [
    "data = pd.read_csv('wine_data.csv')\n",
    "\n",
    "split = StratifiedShuffleSplit(n_splits=1, test_size=0.05, random_state=42)\n",
    "for train_index, test_index in split.split(data, data[\"variety\"]):\n",
    "    train = data.loc[train_index]\n",
    "    test = data.loc[test_index]\n",
    "\n",
    "train = train.reset_index(drop=True)\n",
    "test = test.reset_index(drop=True)"
   ]
  },
  {
   "cell_type": "markdown",
   "metadata": {},
   "source": [
    "## 2. Function for Preprocessing the data"
   ]
  },
  {
   "cell_type": "code",
   "execution_count": 8,
   "metadata": {},
   "outputs": [],
   "source": [
    "stopword_list = stopwords.words('english')\n",
    "lemmatizer = WordNetLemmatizer()\n",
    "\n",
    "def process_description(description):\n",
    "    description = re.sub('[^a-zA-Z]', ' ', description)\n",
    "    description = description.lower()\n",
    "    description_words = description.split()\n",
    "    description_words = [word for word in description_words if word not in stopword_list]\n",
    "    description_words = [lemmatizer.lemmatize(word) for word in description_words]\n",
    "    return ' '.join(description_words)\n",
    "\n",
    "train['description'] = train['description'].apply(process_description)\n",
    "test['description'] = test['description'].apply(process_description)"
   ]
  },
  {
   "cell_type": "markdown",
   "metadata": {},
   "source": [
    "# Experimenting Different Models"
   ]
  },
  {
   "cell_type": "markdown",
   "metadata": {},
   "source": [
    "### First, lets define the evaluation function to calculate the accuracy metric to compare different models"
   ]
  },
  {
   "cell_type": "code",
   "execution_count": 9,
   "metadata": {},
   "outputs": [],
   "source": [
    "def calculate_accuracy(train, test, recommendation_indices):\n",
    "    train_varieties = train['variety'].to_numpy()\n",
    "    test_variety = test['variety'].to_numpy()\n",
    "    nearest_varieties = train_varieties[recommendation_indices]\n",
    "    match = 0\n",
    "    accuracy = 0\n",
    "    for i in range(len(test_variety)):\n",
    "        for j in range(5):\n",
    "            if test_variety[i] == nearest_varieties[i][j]:\n",
    "                match += 1\n",
    "                break\n",
    "        #match = match/5        \n",
    "        accuracy += match\n",
    "        match = 0\n",
    "    return accuracy/len(test_variety)"
   ]
  },
  {
   "cell_type": "markdown",
   "metadata": {},
   "source": [
    "## Next, we need to vectorize the data before we can calculate similarity metrics"
   ]
  },
  {
   "cell_type": "code",
   "execution_count": 10,
   "metadata": {},
   "outputs": [],
   "source": [
    "vectorizer = TfidfVectorizer(max_features=1000, max_df=0.9, min_df=2)\n",
    "train_vectors = vectorizer.fit_transform(train['description'])\n",
    "test_vectors = vectorizer.transform(test['description'])"
   ]
  },
  {
   "cell_type": "markdown",
   "metadata": {},
   "source": [
    "## 1. Nearest Neighbours (using Manhattan Distance)"
   ]
  },
  {
   "cell_type": "code",
   "execution_count": 11,
   "metadata": {},
   "outputs": [
    {
     "name": "stdout",
     "output_type": "stream",
     "text": [
      "Accuracy of recommendations based on KNN: 0.26288879420536854\n"
     ]
    }
   ],
   "source": [
    "# Step 1: Use NearestNeighbors based on Manhattan distance\n",
    "neighbors = NearestNeighbors(n_neighbors=5, metric='manhattan')\n",
    "neighbors.fit(train_vectors)\n",
    "\n",
    "# Step 2: Find the 5 nearest neighbors for each wine in the test dataset\n",
    "distances, indices = neighbors.kneighbors(test_vectors)\n",
    "\n",
    "accuracy_knn = calculate_accuracy(train, test, indices)\n",
    "\n",
    "print('Accuracy of recommendations based on KNN:', accuracy_knn)"
   ]
  },
  {
   "cell_type": "markdown",
   "metadata": {},
   "source": [
    "## 2. Euclidean Distance"
   ]
  },
  {
   "cell_type": "code",
   "execution_count": 12,
   "metadata": {},
   "outputs": [
    {
     "name": "stdout",
     "output_type": "stream",
     "text": [
      "Accuracy of recommendations based on Euclidean Distance: 0.6254793353216873\n"
     ]
    }
   ],
   "source": [
    "# Step 1: Calculate Euclidean distance\n",
    "euclidean_dist_matrix = euclidean_distances(test_vectors, train_vectors)\n",
    "\n",
    "# Step 2: Find the indices of top 5 recommendations\n",
    "top_5_indices_euclidean = np.argsort(euclidean_dist_matrix, axis=1)[:, :5]\n",
    "\n",
    "# Step 3: Find the accuracy of recommendations\n",
    "accuracy_euclidean = calculate_accuracy(train, test, top_5_indices_euclidean)\n",
    "\n",
    "print('Accuracy of recommendations based on Euclidean Distance:', accuracy_euclidean)"
   ]
  },
  {
   "cell_type": "markdown",
   "metadata": {},
   "source": [
    "## 3. Cosine Similarity"
   ]
  },
  {
   "cell_type": "code",
   "execution_count": 13,
   "metadata": {},
   "outputs": [
    {
     "name": "stdout",
     "output_type": "stream",
     "text": [
      "Accuracy of recommendations based on Cosine Similarity: 0.8035790370685982\n"
     ]
    }
   ],
   "source": [
    "# Step 1: Calculate Cosine Similarity\n",
    "cosine_sim_matrix = cosine_similarity(test_vectors, train_vectors)\n",
    "\n",
    "# Step 2: Find the indices of top 5 recommendations\n",
    "top_5_indices_cosine = np.argsort(-cosine_sim_matrix, axis=1)[:, :5]\n",
    "\n",
    "# Step 3: Find the accuracy of recommendations\n",
    "accuracy_cosine = calculate_accuracy(train, test, top_5_indices_cosine)\n",
    "\n",
    "print('Accuracy of recommendations based on Cosine Similarity:', accuracy_cosine)"
   ]
  },
  {
   "cell_type": "markdown",
   "metadata": {},
   "source": [
    "## 4. Vectorization using word2vec"
   ]
  },
  {
   "cell_type": "code",
   "execution_count": 14,
   "metadata": {},
   "outputs": [
    {
     "name": "stdout",
     "output_type": "stream",
     "text": [
      "Accuracy of recommendations based on Word2Vec vectors: 0.5155517682147422\n"
     ]
    }
   ],
   "source": [
    "from gensim.models import Word2Vec\n",
    "\n",
    "# Step1: Data Preprocessing for Word2Vec\n",
    "\n",
    "model = Word2Vec(sentences=(pd.concat([train['description'], test['description']])), vector_size=1000, window=5, min_count=1, workers=4)\n",
    "\n",
    "def document_vector_word2vec(doc, model):\n",
    "    doc = [word for word in doc if word in model.wv.key_to_index]\n",
    "    if not doc:\n",
    "        return np.zeros(model.vector_size)\n",
    "    return np.mean(model.wv[doc], axis=0)\n",
    "\n",
    "word2vec_train_vectors = np.array([document_vector_word2vec(doc, model) for doc in train['description']])\n",
    "word2vec_test_vectors = np.array([document_vector_word2vec(doc, model) for doc in test['description']])\n",
    "\n",
    "# Step 2: Calculate Euclidean distance\n",
    "cosine_sim_matrix_word2vec = cosine_similarity(word2vec_test_vectors, word2vec_train_vectors)\n",
    "\n",
    "# Step 3: Find the indices of top 5 recommendations\n",
    "top_5_indices_cosine_word2vec = np.argsort(-cosine_sim_matrix_word2vec, axis=1)[:, :5]\n",
    "\n",
    "# Step 4: Find the accuracy of recommendations\n",
    "accuracy_cosine_word2vec = calculate_accuracy(train, test, top_5_indices_cosine_word2vec)\n",
    "\n",
    "print('Accuracy of recommendations based on Word2Vec vectors:', accuracy_cosine_word2vec)"
   ]
  },
  {
   "cell_type": "markdown",
   "metadata": {},
   "source": [
    "### View results to explain the evaluation metric for different models"
   ]
  },
  {
   "cell_type": "code",
   "execution_count": 15,
   "metadata": {},
   "outputs": [
    {
     "data": {
      "text/html": [
       "<div>\n",
       "<style scoped>\n",
       "    .dataframe tbody tr th:only-of-type {\n",
       "        vertical-align: middle;\n",
       "    }\n",
       "\n",
       "    .dataframe tbody tr th {\n",
       "        vertical-align: top;\n",
       "    }\n",
       "\n",
       "    .dataframe thead th {\n",
       "        text-align: right;\n",
       "    }\n",
       "</style>\n",
       "<table border=\"1\" class=\"dataframe\">\n",
       "  <thead>\n",
       "    <tr style=\"text-align: right;\">\n",
       "      <th></th>\n",
       "      <th>Nearest 1</th>\n",
       "      <th>Nearest 2</th>\n",
       "      <th>Nearest 3</th>\n",
       "      <th>Nearest 4</th>\n",
       "      <th>Nearest 5</th>\n",
       "      <th>test_variety</th>\n",
       "      <th>n1_var</th>\n",
       "      <th>n2_var</th>\n",
       "      <th>n3_var</th>\n",
       "      <th>n4_var</th>\n",
       "      <th>n5_var</th>\n",
       "    </tr>\n",
       "  </thead>\n",
       "  <tbody>\n",
       "    <tr>\n",
       "      <th>0</th>\n",
       "      <td>58187</td>\n",
       "      <td>49423</td>\n",
       "      <td>49248</td>\n",
       "      <td>39889</td>\n",
       "      <td>76363</td>\n",
       "      <td>Red Blend</td>\n",
       "      <td>Red Blend</td>\n",
       "      <td>Red Blend</td>\n",
       "      <td>Rhône-style Red Blend</td>\n",
       "      <td>Rhône-style Red Blend</td>\n",
       "      <td>Rhône-style Red Blend</td>\n",
       "    </tr>\n",
       "    <tr>\n",
       "      <th>1</th>\n",
       "      <td>16672</td>\n",
       "      <td>9061</td>\n",
       "      <td>47038</td>\n",
       "      <td>62808</td>\n",
       "      <td>55782</td>\n",
       "      <td>Riesling</td>\n",
       "      <td>Riesling</td>\n",
       "      <td>Riesling</td>\n",
       "      <td>Riesling</td>\n",
       "      <td>Riesling</td>\n",
       "      <td>Riesling</td>\n",
       "    </tr>\n",
       "    <tr>\n",
       "      <th>2</th>\n",
       "      <td>70626</td>\n",
       "      <td>81524</td>\n",
       "      <td>63569</td>\n",
       "      <td>18154</td>\n",
       "      <td>35963</td>\n",
       "      <td>Chardonnay</td>\n",
       "      <td>Chardonnay</td>\n",
       "      <td>Sauvignon Blanc</td>\n",
       "      <td>Chardonnay</td>\n",
       "      <td>Chardonnay</td>\n",
       "      <td>Chardonnay</td>\n",
       "    </tr>\n",
       "    <tr>\n",
       "      <th>3</th>\n",
       "      <td>30345</td>\n",
       "      <td>29368</td>\n",
       "      <td>7225</td>\n",
       "      <td>76434</td>\n",
       "      <td>52830</td>\n",
       "      <td>Red Blend</td>\n",
       "      <td>Red Blend</td>\n",
       "      <td>Red Blend</td>\n",
       "      <td>Bordeaux-style Red Blend</td>\n",
       "      <td>Red Blend</td>\n",
       "      <td>Bordeaux-style Red Blend</td>\n",
       "    </tr>\n",
       "    <tr>\n",
       "      <th>4</th>\n",
       "      <td>11305</td>\n",
       "      <td>83787</td>\n",
       "      <td>53928</td>\n",
       "      <td>11327</td>\n",
       "      <td>50180</td>\n",
       "      <td>Bordeaux-style Red Blend</td>\n",
       "      <td>Bordeaux-style Red Blend</td>\n",
       "      <td>Bordeaux-style Red Blend</td>\n",
       "      <td>Red Blend</td>\n",
       "      <td>Red Blend</td>\n",
       "      <td>Bordeaux-style Red Blend</td>\n",
       "    </tr>\n",
       "    <tr>\n",
       "      <th>...</th>\n",
       "      <td>...</td>\n",
       "      <td>...</td>\n",
       "      <td>...</td>\n",
       "      <td>...</td>\n",
       "      <td>...</td>\n",
       "      <td>...</td>\n",
       "      <td>...</td>\n",
       "      <td>...</td>\n",
       "      <td>...</td>\n",
       "      <td>...</td>\n",
       "      <td>...</td>\n",
       "    </tr>\n",
       "    <tr>\n",
       "      <th>4689</th>\n",
       "      <td>56436</td>\n",
       "      <td>82828</td>\n",
       "      <td>34965</td>\n",
       "      <td>67159</td>\n",
       "      <td>71625</td>\n",
       "      <td>Pinot Noir</td>\n",
       "      <td>Bordeaux-style Red Blend</td>\n",
       "      <td>Pinot Noir</td>\n",
       "      <td>Pinot Noir</td>\n",
       "      <td>Zinfandel</td>\n",
       "      <td>Pinot Noir</td>\n",
       "    </tr>\n",
       "    <tr>\n",
       "      <th>4690</th>\n",
       "      <td>31404</td>\n",
       "      <td>42479</td>\n",
       "      <td>68909</td>\n",
       "      <td>11942</td>\n",
       "      <td>93</td>\n",
       "      <td>Riesling</td>\n",
       "      <td>Merlot</td>\n",
       "      <td>Riesling</td>\n",
       "      <td>Riesling</td>\n",
       "      <td>Riesling</td>\n",
       "      <td>Riesling</td>\n",
       "    </tr>\n",
       "    <tr>\n",
       "      <th>4691</th>\n",
       "      <td>12685</td>\n",
       "      <td>34925</td>\n",
       "      <td>12341</td>\n",
       "      <td>23182</td>\n",
       "      <td>44752</td>\n",
       "      <td>Pinot Noir</td>\n",
       "      <td>Pinot Noir</td>\n",
       "      <td>Pinot Noir</td>\n",
       "      <td>Pinot Noir</td>\n",
       "      <td>Pinot Noir</td>\n",
       "      <td>Pinot Noir</td>\n",
       "    </tr>\n",
       "    <tr>\n",
       "      <th>4692</th>\n",
       "      <td>41341</td>\n",
       "      <td>84332</td>\n",
       "      <td>29464</td>\n",
       "      <td>13324</td>\n",
       "      <td>10798</td>\n",
       "      <td>Bordeaux-style Red Blend</td>\n",
       "      <td>Red Blend</td>\n",
       "      <td>Red Blend</td>\n",
       "      <td>Red Blend</td>\n",
       "      <td>Red Blend</td>\n",
       "      <td>Red Blend</td>\n",
       "    </tr>\n",
       "    <tr>\n",
       "      <th>4693</th>\n",
       "      <td>33512</td>\n",
       "      <td>20836</td>\n",
       "      <td>45116</td>\n",
       "      <td>12534</td>\n",
       "      <td>2783</td>\n",
       "      <td>Chardonnay</td>\n",
       "      <td>Chardonnay</td>\n",
       "      <td>Cabernet Sauvignon</td>\n",
       "      <td>Sparkling Blend</td>\n",
       "      <td>Bordeaux-style Red Blend</td>\n",
       "      <td>Chardonnay</td>\n",
       "    </tr>\n",
       "  </tbody>\n",
       "</table>\n",
       "<p>4694 rows × 11 columns</p>\n",
       "</div>"
      ],
      "text/plain": [
       "      Nearest 1  Nearest 2  Nearest 3  Nearest 4  Nearest 5  \\\n",
       "0         58187      49423      49248      39889      76363   \n",
       "1         16672       9061      47038      62808      55782   \n",
       "2         70626      81524      63569      18154      35963   \n",
       "3         30345      29368       7225      76434      52830   \n",
       "4         11305      83787      53928      11327      50180   \n",
       "...         ...        ...        ...        ...        ...   \n",
       "4689      56436      82828      34965      67159      71625   \n",
       "4690      31404      42479      68909      11942         93   \n",
       "4691      12685      34925      12341      23182      44752   \n",
       "4692      41341      84332      29464      13324      10798   \n",
       "4693      33512      20836      45116      12534       2783   \n",
       "\n",
       "                  test_variety                    n1_var  \\\n",
       "0                    Red Blend                 Red Blend   \n",
       "1                     Riesling                  Riesling   \n",
       "2                   Chardonnay                Chardonnay   \n",
       "3                    Red Blend                 Red Blend   \n",
       "4     Bordeaux-style Red Blend  Bordeaux-style Red Blend   \n",
       "...                        ...                       ...   \n",
       "4689                Pinot Noir  Bordeaux-style Red Blend   \n",
       "4690                  Riesling                    Merlot   \n",
       "4691                Pinot Noir                Pinot Noir   \n",
       "4692  Bordeaux-style Red Blend                 Red Blend   \n",
       "4693                Chardonnay                Chardonnay   \n",
       "\n",
       "                        n2_var                    n3_var  \\\n",
       "0                    Red Blend     Rhône-style Red Blend   \n",
       "1                     Riesling                  Riesling   \n",
       "2              Sauvignon Blanc                Chardonnay   \n",
       "3                    Red Blend  Bordeaux-style Red Blend   \n",
       "4     Bordeaux-style Red Blend                 Red Blend   \n",
       "...                        ...                       ...   \n",
       "4689                Pinot Noir                Pinot Noir   \n",
       "4690                  Riesling                  Riesling   \n",
       "4691                Pinot Noir                Pinot Noir   \n",
       "4692                 Red Blend                 Red Blend   \n",
       "4693        Cabernet Sauvignon           Sparkling Blend   \n",
       "\n",
       "                        n4_var                    n5_var  \n",
       "0        Rhône-style Red Blend     Rhône-style Red Blend  \n",
       "1                     Riesling                  Riesling  \n",
       "2                   Chardonnay                Chardonnay  \n",
       "3                    Red Blend  Bordeaux-style Red Blend  \n",
       "4                    Red Blend  Bordeaux-style Red Blend  \n",
       "...                        ...                       ...  \n",
       "4689                 Zinfandel                Pinot Noir  \n",
       "4690                  Riesling                  Riesling  \n",
       "4691                Pinot Noir                Pinot Noir  \n",
       "4692                 Red Blend                 Red Blend  \n",
       "4693  Bordeaux-style Red Blend                Chardonnay  \n",
       "\n",
       "[4694 rows x 11 columns]"
      ]
     },
     "execution_count": 15,
     "metadata": {},
     "output_type": "execute_result"
    }
   ],
   "source": [
    "nearest_neighbors_df = nearest_neighbors_df = pd.DataFrame(top_5_indices_cosine, index=test.index, columns=[f'Nearest {i+1}' for i in range(5)])\n",
    "\n",
    "test_new = test.reset_index()\n",
    "train_new = train.reset_index()\n",
    "\n",
    "n1 = nearest_neighbors_df.copy()\n",
    "n1['test_variety'] = test_new['variety']\n",
    "\n",
    "n1 = pd.merge(n1, train_new[['index','variety']], left_on='Nearest 1', right_on=['index'], how='left')\n",
    "n1.rename(columns={'variety':'n1_var'}, inplace=True)\n",
    "n1.drop('index', axis=1, inplace=True)\n",
    "\n",
    "n1 = pd.merge(n1, train_new[['index','variety']], left_on='Nearest 2', right_on=['index'], how='left')\n",
    "n1.rename(columns={'variety':'n2_var'}, inplace=True)\n",
    "n1.drop('index', axis=1, inplace=True)\n",
    "\n",
    "n1 = pd.merge(n1, train_new[['index','variety']], left_on='Nearest 3', right_on=['index'], how='left')\n",
    "n1.rename(columns={'variety':'n3_var'}, inplace=True)\n",
    "n1.drop('index', axis=1, inplace=True)\n",
    "\n",
    "n1 = pd.merge(n1, train_new[['index','variety']], left_on='Nearest 4', right_on=['index'], how='left')\n",
    "n1.rename(columns={'variety':'n4_var'}, inplace=True)\n",
    "n1.drop('index', axis=1, inplace=True)\n",
    "\n",
    "n1 = pd.merge(n1, train_new[['index','variety']], left_on='Nearest 5', right_on=['index'], how='left')\n",
    "n1.rename(columns={'variety':'n5_var'}, inplace=True)\n",
    "n1.drop('index', axis=1, inplace=True)\n",
    "\n",
    "n1"
   ]
  }
 ],
 "metadata": {
  "kernelspec": {
   "display_name": "base",
   "language": "python",
   "name": "python3"
  },
  "language_info": {
   "codemirror_mode": {
    "name": "ipython",
    "version": 3
   },
   "file_extension": ".py",
   "mimetype": "text/x-python",
   "name": "python",
   "nbconvert_exporter": "python",
   "pygments_lexer": "ipython3",
   "version": "3.11.3"
  }
 },
 "nbformat": 4,
 "nbformat_minor": 2
}
